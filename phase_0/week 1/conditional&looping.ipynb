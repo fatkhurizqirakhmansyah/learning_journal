{
 "cells": [
  {
   "cell_type": "code",
   "execution_count": 4,
   "metadata": {},
   "outputs": [
    {
     "data": {
      "text/plain": [
       "15"
      ]
     },
     "execution_count": 4,
     "metadata": {},
     "output_type": "execute_result"
    }
   ],
   "source": [
    "y=15\n",
    "y "
   ]
  },
  {
   "cell_type": "code",
   "execution_count": 5,
   "metadata": {},
   "outputs": [
    {
     "data": {
      "text/plain": [
       "20"
      ]
     },
     "execution_count": 5,
     "metadata": {},
     "output_type": "execute_result"
    }
   ],
   "source": [
    "m = 20\n",
    "m"
   ]
  },
  {
   "cell_type": "markdown",
   "metadata": {},
   "source": [
    "## Conditional"
   ]
  },
  {
   "cell_type": "code",
   "execution_count": 12,
   "metadata": {},
   "outputs": [],
   "source": [
    "if False:\n",
    "    print(\"halo\")\n",
    "    print(\"ok\")"
   ]
  },
  {
   "cell_type": "code",
   "execution_count": 25,
   "metadata": {},
   "outputs": [
    {
     "name": "stdout",
     "output_type": "stream",
     "text": [
      "42 diatas 40\n"
     ]
    }
   ],
   "source": [
    "angka = 42\n",
    "\n",
    "if angka > 40:\n",
    "    print (f\"{angka} diatas 40\")\n",
    "elif angka == 40:\n",
    "    print (f\"{angka} sama dengan 40\")"
   ]
  },
  {
   "cell_type": "code",
   "execution_count": 29,
   "metadata": {},
   "outputs": [
    {
     "name": "stdout",
     "output_type": "stream",
     "text": [
      "70 grade B\n"
     ]
    }
   ],
   "source": [
    "angka = 70\n",
    "\n",
    "if angka > 80:\n",
    "    print (f\"{angka} grade A\")\n",
    "elif angka < 80:\n",
    "    print (f\"{angka} grade B\")"
   ]
  },
  {
   "cell_type": "code",
   "execution_count": 34,
   "metadata": {},
   "outputs": [
    {
     "name": "stdout",
     "output_type": "stream",
     "text": [
      "nilai tidak ditemukan\n"
     ]
    }
   ],
   "source": [
    "nilai = 120\n",
    "if 80 <= nilai <= 100 :\n",
    "    print('A')\n",
    "elif 70 <= nilai < 80 :\n",
    "    print('B')\n",
    "elif 60 <= nilai < 70 :\n",
    "    print('C')\n",
    "elif nilai > 100 :\n",
    "    print (\"nilai tidak ditemukan\")\n",
    "elif 40 <= nilai < 60 :\n",
    "    print('D')\n",
    "else :\n",
    "    print('E')"
   ]
  },
  {
   "cell_type": "code",
   "execution_count": 41,
   "metadata": {},
   "outputs": [
    {
     "name": "stdout",
     "output_type": "stream",
     "text": [
      "Madura merupakan anggota kelompok cities\n"
     ]
    }
   ],
   "source": [
    "cities = ('Madura, Bekasi, Surabaya')\n",
    "\n",
    "nama_kota = 'Madura'\n",
    "\n",
    "if nama_kota in cities:\n",
    "    print(f\"{nama_kota} merupakan anggota kelompok cities\")"
   ]
  },
  {
   "cell_type": "code",
   "execution_count": 44,
   "metadata": {},
   "outputs": [],
   "source": [
    "# update variable\n",
    "angka = 1"
   ]
  },
  {
   "cell_type": "code",
   "execution_count": 48,
   "metadata": {},
   "outputs": [
    {
     "data": {
      "text/plain": [
       "5"
      ]
     },
     "execution_count": 48,
     "metadata": {},
     "output_type": "execute_result"
    }
   ],
   "source": [
    "angka = angka + 1\n",
    "angka"
   ]
  },
  {
   "cell_type": "code",
   "execution_count": 54,
   "metadata": {},
   "outputs": [
    {
     "name": "stdout",
     "output_type": "stream",
     "text": [
      "5x1 = 5\n",
      "5x2 = 10\n",
      "5x3 = 15\n",
      "5x4 = 20\n",
      "5x5 = 25\n",
      "5x6 = 30\n",
      "5x7 = 35\n",
      "5x8 = 40\n",
      "5x9 = 45\n",
      "5x10 = 50\n"
     ]
    }
   ],
   "source": [
    "i = 1\n",
    "\n",
    "while i <= 10:\n",
    "    print (f'5x{i} = {5*i}')\n",
    "    i = i + 1"
   ]
  },
  {
   "cell_type": "code",
   "execution_count": 55,
   "metadata": {},
   "outputs": [
    {
     "name": "stdout",
     "output_type": "stream",
     "text": [
      "1x1= 1\n",
      "1x2= 2\n",
      "1x3= 3\n",
      "1x4= 4\n",
      "1x5= 5\n",
      "1x6= 6\n",
      "1x7= 7\n",
      "1x8= 8\n",
      "1x9= 9\n",
      "1x10= 10\n",
      "----------\n",
      "2x1= 2\n",
      "2x2= 4\n",
      "2x3= 6\n",
      "2x4= 8\n",
      "2x5= 10\n",
      "2x6= 12\n",
      "2x7= 14\n",
      "2x8= 16\n",
      "2x9= 18\n",
      "2x10= 20\n",
      "----------\n",
      "3x1= 3\n",
      "3x2= 6\n",
      "3x3= 9\n",
      "3x4= 12\n",
      "3x5= 15\n",
      "3x6= 18\n",
      "3x7= 21\n",
      "3x8= 24\n",
      "3x9= 27\n",
      "3x10= 30\n",
      "----------\n",
      "4x1= 4\n",
      "4x2= 8\n",
      "4x3= 12\n",
      "4x4= 16\n",
      "4x5= 20\n",
      "4x6= 24\n",
      "4x7= 28\n",
      "4x8= 32\n",
      "4x9= 36\n",
      "4x10= 40\n",
      "----------\n",
      "5x1= 5\n",
      "5x2= 10\n",
      "5x3= 15\n",
      "5x4= 20\n",
      "5x5= 25\n",
      "5x6= 30\n",
      "5x7= 35\n",
      "5x8= 40\n",
      "5x9= 45\n",
      "5x10= 50\n",
      "----------\n",
      "6x1= 6\n",
      "6x2= 12\n",
      "6x3= 18\n",
      "6x4= 24\n",
      "6x5= 30\n",
      "6x6= 36\n",
      "6x7= 42\n",
      "6x8= 48\n",
      "6x9= 54\n",
      "6x10= 60\n",
      "----------\n",
      "7x1= 7\n",
      "7x2= 14\n",
      "7x3= 21\n",
      "7x4= 28\n",
      "7x5= 35\n",
      "7x6= 42\n",
      "7x7= 49\n",
      "7x8= 56\n",
      "7x9= 63\n",
      "7x10= 70\n",
      "----------\n",
      "8x1= 8\n",
      "8x2= 16\n",
      "8x3= 24\n",
      "8x4= 32\n",
      "8x5= 40\n",
      "8x6= 48\n",
      "8x7= 56\n",
      "8x8= 64\n",
      "8x9= 72\n",
      "8x10= 80\n",
      "----------\n",
      "9x1= 9\n",
      "9x2= 18\n",
      "9x3= 27\n",
      "9x4= 36\n",
      "9x5= 45\n",
      "9x6= 54\n",
      "9x7= 63\n",
      "9x8= 72\n",
      "9x9= 81\n",
      "9x10= 90\n",
      "----------\n",
      "10x1= 10\n",
      "10x2= 20\n",
      "10x3= 30\n",
      "10x4= 40\n",
      "10x5= 50\n",
      "10x6= 60\n",
      "10x7= 70\n",
      "10x8= 80\n",
      "10x9= 90\n",
      "10x10= 100\n",
      "----------\n"
     ]
    }
   ],
   "source": [
    "i = 1\n",
    "j = 1\n",
    "\n",
    "while i <= 10:\n",
    "    while j <= 10:\n",
    "        print(f'{i}x{j}= {i*j}')\n",
    "        j = j + 1\n",
    "    print('-'*10)\n",
    "    i = i + 1\n",
    "    j = 1"
   ]
  },
  {
   "cell_type": "code",
   "execution_count": 72,
   "metadata": {},
   "outputs": [
    {
     "name": "stdout",
     "output_type": "stream",
     "text": [
      "nilai i adalah: 1\n",
      "1x10 = 1*10\n",
      "nilai i adalah: 2\n",
      "2x10 = 2*10\n",
      "nilai i adalah: 3\n",
      "3x10 = 3*10\n",
      "nilai i adalah: 4\n",
      "4x10 = 4*10\n",
      "nilai i adalah: 5\n",
      "5x10 = 5*10\n",
      "nilai i adalah: 6\n",
      "6x10 = 6*10\n",
      "nilai i adalah: 7\n",
      "7x10 = 7*10\n",
      "nilai i adalah: 8\n",
      "8x10 = 8*10\n",
      "nilai i adalah: 9\n",
      "9x10 = 9*10\n",
      "nilai i adalah: 10\n",
      "10x10 = 10*10\n"
     ]
    }
   ],
   "source": [
    "for i in range (1,11):\n",
    "    print('nilai i adalah: {}'.format(i))\n",
    "    print(f'{i}x10 = {i}*10')"
   ]
  },
  {
   "cell_type": "code",
   "execution_count": 67,
   "metadata": {},
   "outputs": [
    {
     "name": "stdout",
     "output_type": "stream",
     "text": [
      "nilai variabel angka adalah: 99\n"
     ]
    }
   ],
   "source": [
    "angka = 99\n",
    "\n",
    "print('nilai variabel angka adalah: {}'.format(angka))"
   ]
  },
  {
   "cell_type": "code",
   "execution_count": null,
   "metadata": {},
   "outputs": [],
   "source": [
    "i = 1\n",
    "j = 1\n",
    "\n",
    "while i <= 10:\n",
    "    while j <= 10:\n",
    "        print(f'{i}x{j}= {i*j}')\n",
    "        j = j + 1\n",
    "    print('-'*10)\n",
    "    i = i + 1\n",
    "    j = 1"
   ]
  },
  {
   "cell_type": "code",
   "execution_count": 75,
   "metadata": {},
   "outputs": [
    {
     "name": "stdout",
     "output_type": "stream",
     "text": [
      "1 x 1 = 1\n",
      "1 x 2 = 2\n",
      "1 x 3 = 3\n",
      "1 x 4 = 4\n",
      "1 x 5 = 5\n",
      "1 x 6 = 6\n",
      "1 x 7 = 7\n",
      "1 x 8 = 8\n",
      "1 x 9 = 9\n",
      "1 x 10 = 10\n",
      "---------------\n",
      "2 x 1 = 2\n",
      "2 x 2 = 4\n",
      "2 x 3 = 6\n",
      "2 x 4 = 8\n",
      "2 x 5 = 10\n",
      "2 x 6 = 12\n",
      "2 x 7 = 14\n",
      "2 x 8 = 16\n",
      "2 x 9 = 18\n",
      "2 x 10 = 20\n",
      "---------------\n",
      "3 x 1 = 3\n",
      "3 x 2 = 6\n",
      "3 x 3 = 9\n",
      "3 x 4 = 12\n",
      "3 x 5 = 15\n",
      "3 x 6 = 18\n",
      "3 x 7 = 21\n",
      "3 x 8 = 24\n",
      "3 x 9 = 27\n",
      "3 x 10 = 30\n",
      "---------------\n",
      "4 x 1 = 4\n",
      "4 x 2 = 8\n",
      "4 x 3 = 12\n",
      "4 x 4 = 16\n",
      "4 x 5 = 20\n",
      "4 x 6 = 24\n",
      "4 x 7 = 28\n",
      "4 x 8 = 32\n",
      "4 x 9 = 36\n",
      "4 x 10 = 40\n",
      "---------------\n",
      "5 x 1 = 5\n",
      "5 x 2 = 10\n",
      "5 x 3 = 15\n",
      "5 x 4 = 20\n",
      "5 x 5 = 25\n",
      "5 x 6 = 30\n",
      "5 x 7 = 35\n",
      "5 x 8 = 40\n",
      "5 x 9 = 45\n",
      "5 x 10 = 50\n",
      "---------------\n",
      "6 x 1 = 6\n",
      "6 x 2 = 12\n",
      "6 x 3 = 18\n",
      "6 x 4 = 24\n",
      "6 x 5 = 30\n",
      "6 x 6 = 36\n",
      "6 x 7 = 42\n",
      "6 x 8 = 48\n",
      "6 x 9 = 54\n",
      "6 x 10 = 60\n",
      "---------------\n",
      "7 x 1 = 7\n",
      "7 x 2 = 14\n",
      "7 x 3 = 21\n",
      "7 x 4 = 28\n",
      "7 x 5 = 35\n",
      "7 x 6 = 42\n",
      "7 x 7 = 49\n",
      "7 x 8 = 56\n",
      "7 x 9 = 63\n",
      "7 x 10 = 70\n",
      "---------------\n",
      "8 x 1 = 8\n",
      "8 x 2 = 16\n",
      "8 x 3 = 24\n",
      "8 x 4 = 32\n",
      "8 x 5 = 40\n",
      "8 x 6 = 48\n",
      "8 x 7 = 56\n",
      "8 x 8 = 64\n",
      "8 x 9 = 72\n",
      "8 x 10 = 80\n",
      "---------------\n",
      "9 x 1 = 9\n",
      "9 x 2 = 18\n",
      "9 x 3 = 27\n",
      "9 x 4 = 36\n",
      "9 x 5 = 45\n",
      "9 x 6 = 54\n",
      "9 x 7 = 63\n",
      "9 x 8 = 72\n",
      "9 x 9 = 81\n",
      "9 x 10 = 90\n",
      "---------------\n",
      "10 x 1 = 10\n",
      "10 x 2 = 20\n",
      "10 x 3 = 30\n",
      "10 x 4 = 40\n",
      "10 x 5 = 50\n",
      "10 x 6 = 60\n",
      "10 x 7 = 70\n",
      "10 x 8 = 80\n",
      "10 x 9 = 90\n",
      "10 x 10 = 100\n",
      "---------------\n"
     ]
    }
   ],
   "source": [
    "for i in range (1, 11):\n",
    "    for j in range (1, 11):\n",
    "     print(f'{i} x {j} = {i*j}')\n",
    "    print('-'*15)"
   ]
  },
  {
   "cell_type": "code",
   "execution_count": 88,
   "metadata": {},
   "outputs": [],
   "source": [
    "for i in cities :\n",
    " cities"
   ]
  }
 ],
 "metadata": {
  "interpreter": {
   "hash": "b09ec625f77bf4fd762565a912b97636504ad6ec901eb2d0f4cf5a7de23e1ee5"
  },
  "kernelspec": {
   "display_name": "Python 3.9.12 ('base')",
   "language": "python",
   "name": "python3"
  },
  "language_info": {
   "codemirror_mode": {
    "name": "ipython",
    "version": 3
   },
   "file_extension": ".py",
   "mimetype": "text/x-python",
   "name": "python",
   "nbconvert_exporter": "python",
   "pygments_lexer": "ipython3",
   "version": "3.9.12"
  },
  "orig_nbformat": 4
 },
 "nbformat": 4,
 "nbformat_minor": 2
}
