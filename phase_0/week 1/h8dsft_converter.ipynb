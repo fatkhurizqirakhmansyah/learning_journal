{
 "cells": [
  {
   "cell_type": "code",
   "execution_count": null,
   "metadata": {},
   "outputs": [],
   "source": [
    "print(\"Konversi Celcius\")\n",
    "\n",
    "celcius = \n",
    "fahrenheit = (9 / 5) * celcius + 32\n",
    "reamur = (4 / 5) * celcius\n",
    "kelvin = celcius + 273\n",
    "\n",
    "# KONVERSI CELCIUS\n",
    "print(\"Nilai Celcius : \", celcius, \"C\")\n",
    "print(\"Nilai dalam fahrenheit :\", fahrenheit, \"F\")\n",
    "print(\"Nilai dalam reamur :\", reamur, \"R\")\n",
    "print(\"Nilai dalam Kelvin :\", kelvin, \"K\")\n",
    "\n",
    "print(\"=\"*20)\n",
    "\n",
    "print(\"Konversi Fahrenheit\")\n",
    "\n",
    "fahrenheit = float(input(\"Masukkan nilai Fahrenheit : \"))\n",
    "celcius = (5 / 9) * (fahrenheit - 32)\n",
    "reamur = (4 / 9) * (fahrenheit - 32)\n",
    "kelvin = (5 / 9) * (fahrenheit - 32) + 273\n",
    "# KONVERSI FAHRENHEIT\n",
    "print(\"Nilai Fahrenheit : \", fahrenheit, \"F\")\n",
    "print(\"Nilai dalam Celcius :\", celcius, \"C\")\n",
    "print(\"Nilai dalam reamur :\", reamur, \"R\")\n",
    "print(\"Nilai dalam Kelvin :\", kelvin, \"K\")\n",
    "\n",
    "print(\"=\"*20)\n",
    "\n",
    "print(\"Konversi Reamur\")\n",
    "\n",
    "reamur =\n",
    "celcius = (5 / 4) * reamur\n",
    "fahrenheit = (9 / 4) * reamur + 32\n",
    "kelvin = (5 / 4) * reamur + 273\n",
    "# KONVERSI REAMUR\n",
    "print(\"Nilai reamur :\", reamur, \"R\")\n",
    "print(\"Nilai Celcius : \", celcius, \"C\")\n",
    "print(\"Nilai dalam fahrenheit :\", fahrenheit, \"F\")\n",
    "print(\"Nilai dalam Kelvin :\", kelvin, \"K\")\n",
    "\n",
    "################################################################\n",
    "\n",
    "print(\"\\n=====Konversi Kelvin=====\")\n",
    "\n",
    "kelvin = float(input(\"Masukkan nilai Kelvin : \"))\n",
    "celcius = kelvin - 273\n",
    "fahrenheit = (9 / 5) * (kelvin - 273) + 32\n",
    "reamur = (4 / 5) * (kelvin - 273)\n",
    "# KONVERSI KELVIN\n",
    "print(\"Nilai reamur :\", reamur, \"R\")\n",
    "print(\"Nilai Celcius : \", celcius, \"C\")\n",
    "print(\"Nilai dalam fahrenheit :\", fahrenheit, \"F\")\n",
    "print(\"Nilai dalam Kelvin :\", kelvin, \"K\")"
   ]
  },
  {
   "cell_type": "code",
   "execution_count": 1,
   "metadata": {},
   "outputs": [
    {
     "name": "stdout",
     "output_type": "stream",
     "text": [
      "==========\n"
     ]
    }
   ],
   "source": [
    "print(\"=\"*10)"
   ]
  },
  {
   "cell_type": "code",
   "execution_count": null,
   "metadata": {},
   "outputs": [],
   "source": []
  }
 ],
 "metadata": {
  "interpreter": {
   "hash": "b09ec625f77bf4fd762565a912b97636504ad6ec901eb2d0f4cf5a7de23e1ee5"
  },
  "kernelspec": {
   "display_name": "Python 3.9.12 ('base')",
   "language": "python",
   "name": "python3"
  },
  "language_info": {
   "codemirror_mode": {
    "name": "ipython",
    "version": 3
   },
   "file_extension": ".py",
   "mimetype": "text/x-python",
   "name": "python",
   "nbconvert_exporter": "python",
   "pygments_lexer": "ipython3",
   "version": "3.9.12"
  },
  "orig_nbformat": 4
 },
 "nbformat": 4,
 "nbformat_minor": 2
}
