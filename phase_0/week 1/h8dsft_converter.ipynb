{
 "cells": [
  {
   "cell_type": "code",
   "execution_count": 1,
   "metadata": {},
   "outputs": [
    {
     "name": "stdout",
     "output_type": "stream",
     "text": [
      "nilai dari 11.2 Kelvin adalah -439.50999999999993 Fahrenheit\n",
      "nilai dari 25 Celcius adalah 77.0 Fahrenheit\n",
      "nilai dari 11.2 Kelvin adalah -261.95 Celcius\n",
      "nilai dari 15 Fahrenheit adalah -9.444444444444445 Celcius\n",
      "nilai dari 25 Celcius adalah 298.15 Kelvin\n",
      "nilai dari 15 Fahrenheit adalah 263.7055555555555 Kelvin\n"
     ]
    }
   ],
   "source": [
    "def konversisuhu(celc,kelvin,fahre):\n",
    "\n",
    "    \"\"\"kode function diawali kata def\n",
    "        konversisuhu adalah nama function yang dapat dipanggil untuk diproses,\n",
    "        celc, kelvin , fahre adalah parameter, di tutup dengan tanda titik dua (:)\"\"\"\n",
    "                                     \n",
    "    Celcius = kelvin - 273.15 \n",
    "    \n",
    "    \"\"\"Rumus Ubah Kelvin ke Celcius\"\"\"\n",
    "\n",
    "    celcius = (fahre - 32)*(5/9) \n",
    "    \n",
    "    \"\"\"Rumus untuk mengubah Fahrenheit ke Celcius menggunakan C kecil pada kata Celcius \n",
    "        untuk membedakan dengan rumus di atasnya, \n",
    "        jika tidak, angka Celcius yg dicetak akan sama dengan rumus diatasnya\"\"\"\n",
    "\n",
    "    Kelv = celc + 273.15\n",
    "    \n",
    "    \"\"\"Rumus untuk mengubah Celcius ke Kelvin\"\"\"\n",
    "\n",
    "    kelv = (fahre - 32)*5/9 + 273.15\n",
    "    \n",
    "    \"\"\"rumus untuk mengubah nilai dari Fahrenheit ke Kelvin menggunakan K kecil pada kata Kelv\n",
    "        untuk membedakan dengan rumus di atasnya, \n",
    "        jika tidak, angka kelvin yg dicetak akan sama dengan rumus diatasnya\"\"\"\n",
    "\n",
    "    Fahrenheit = (celc * 9/5) + 32\n",
    "    \"\"\"\"rumus konversi celcius ke fahrenheit\"\"\"\n",
    "\n",
    "    fahrenheit = (kelvin - 273.15)*9/5+32\n",
    "    \"\"\"Rumus untuk mengubah Fahrenheit ke Celcius menggunakan F kecil pada kata Fahrenheit \n",
    "        untuk membedakan dengan rumus di atasnya, \n",
    "        jika tidak, angka Fahrenheit yg dicetak akan sama dengan rumus diatasnya\"\"\"\n",
    "\n",
    "    print (f'nilai dari {kelvin} Kelvin adalah {fahrenheit} Fahrenheit')\n",
    "\n",
    "    \"\"\"Perintah untuk mencetak nilai dari Kelvin ke Fahrenheit\n",
    "    Menggunakan F kecil pada {fahrenheit} untuk dapat mencetak hasil dari rumus Kelvins ke Fahrenheit\n",
    "    harus dibedakan antara huruf besar dan kecil, karena python case sensitive\"\"\"\n",
    "\n",
    "    print (f'nilai dari {celc} Celcius adalah {Fahrenheit} Fahrenheit')\n",
    "\n",
    "## perintah untuk mencetak nilai dari Celcius ke Fahrenheit\n",
    "\n",
    "    print (f'nilai dari {kelvin} Kelvin adalah {Celcius} Celcius')\n",
    "\n",
    "## Perintah untuk mencetak nilai dari Kelvin ke Celcius\n",
    "\n",
    "    print (f'nilai dari {fahre} Fahrenheit adalah {celcius} Celcius')\n",
    "\n",
    "    \"\"\"Perintah untuk mencetak nilai dari Fahrenheit ke Celcius\n",
    "    menggunakan C kecil pada {celcius} untuk dapat mencetak hasil dari rumus Fahrenheit ke Celcius\n",
    "    harus dibedakan antara huruf besar dan kecil, karena python case sensitive\"\"\"\n",
    "\n",
    "    print (f'nilai dari {celc} Celcius adalah {Kelv} Kelvin')\n",
    "\n",
    "## Perintah untuk mencetak nilai dari Celcius ke Kelvin\n",
    "\n",
    "    print (f'nilai dari {fahre} Fahrenheit adalah {kelv} Kelvin')\n",
    "\n",
    "    \"\"\"Perintah untuk mencetak nilai dari Fahrenheit ke Kelvin\n",
    "    menggunakan K kecil pada {kelv} untuk dapat mencetak hasil dari rumus Fahrenheit ke Kelvin\n",
    "    harus dibedakan antara huruf besar dan kecil, karena python case sensitive\"\"\"\n",
    "\n",
    "konversisuhu(25,11.2,15)\n",
    "   ## digunakan untuk pemanggilan function, 25 untuk argumen celcius, 11.2 argumen kelvin, 15 argumen fahrenheit"
   ]
  }
 ],
 "metadata": {
  "interpreter": {
   "hash": "b09ec625f77bf4fd762565a912b97636504ad6ec901eb2d0f4cf5a7de23e1ee5"
  },
  "kernelspec": {
   "display_name": "Python 3.9.12 ('base')",
   "language": "python",
   "name": "python3"
  },
  "language_info": {
   "codemirror_mode": {
    "name": "ipython",
    "version": 3
   },
   "file_extension": ".py",
   "mimetype": "text/x-python",
   "name": "python",
   "nbconvert_exporter": "python",
   "pygments_lexer": "ipython3",
   "version": "3.9.12"
  },
  "orig_nbformat": 4
 },
 "nbformat": 4,
 "nbformat_minor": 2
}
