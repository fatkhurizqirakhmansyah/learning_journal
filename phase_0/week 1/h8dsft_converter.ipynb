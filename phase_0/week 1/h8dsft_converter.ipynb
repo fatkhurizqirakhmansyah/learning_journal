{
 "cells": [
  {
   "cell_type": "code",
   "execution_count": 24,
   "metadata": {},
   "outputs": [
    {
     "name": "stdout",
     "output_type": "stream",
     "text": [
      "nilai dari 11.2 Kelvin adalah -261.95 Celcius\n",
      "nilai dari 15 Fahrenheit adalah -9.444444444444445 Celcius\n",
      "nilai dari 25 Celcius adalah 298.15 Kelvin\n",
      "nilai dari 15 Fahrenheit adalah 263.7055555555555 Kelvin\n",
      "nilai dari 25 Celcius adalah 77.0 Fahrenheit\n",
      "nilai dari 11.2 Kelvin adalah -439.50999999999993 Fahrenheit\n"
     ]
    }
   ],
   "source": [
    "\"\"\"kode function diawali kata def, konversisuhu adalah nama function yang dapat dipanggil untuk diproses,\n",
    "celc, kelvin , fahre adalah parameter\"\"\"\n",
    "\n",
    "def konversisuhu(celc,kelvin,fahre):\n",
    "    \n",
    "    Celcius = kelvin - 273.15\n",
    "    \"\"\"rumus untuk mengubah kelvin ke celcius\"\"\"\n",
    "\n",
    "    print (f'nilai dari {kelvin} Kelvin adalah {Celcius} Celcius')\n",
    "## perintah untuk mencetak nilai dari Kelvin ke Celcius\n",
    "\n",
    "    Celcius = (fahre - 32)*(5/9)\n",
    "    \"\"\"rumus untuk mengubah fahre ke celcius\"\"\"\n",
    "\n",
    "    print (f'nilai dari {fahre} Fahrenheit adalah {Celcius} Celcius')\n",
    "## perintah untuk mencetak nilai dari Fahrenheit ke Celcius\n",
    "\n",
    "    kelv = celc + 273.15\n",
    "    \"\"\"rumus untuk mengubah Celcius ke Kelvin\"\"\"\n",
    "\n",
    "    print (f'nilai dari {celc} Celcius adalah {kelv} Kelvin')\n",
    "## perintah untuk mencetak nilai dari Celcius ke Kelvin\n",
    "\n",
    "    kelv = (fahre - 32)*5/9 + 273.15\n",
    "    \"\"\"rumus untuk mengubah nilai dari Fahrenheit ke Kelvin\"\"\"\n",
    "\n",
    "    print (f'nilai dari {fahre} Fahrenheit adalah {kelv} Kelvin')\n",
    "## perintah untuk mencetak nilai dari Fahrenheit ke Kelvin\n",
    "\n",
    "    fahrenheit = (celc * 9/5) + 32\n",
    "    \"\"\"\"rumus konversi celcius ke fahrenheit\"\"\"\n",
    "\n",
    "    print (f'nilai dari {celc} Celcius adalah {fahrenheit} Fahrenheit')\n",
    "## perintah untuk mencetak nilai dari Celcius ke Fahrenheit\n",
    "\n",
    "    fahrenheit = (kelvin - 273.15)*9/5+32\n",
    "    \"\"\"rumus konversi kelvin ke fahrenheit\"\"\"\n",
    "\n",
    "    print (f'nilai dari {kelvin} Kelvin adalah {fahrenheit} Fahrenheit')\n",
    "## perintah untuk mencetak nilai dari Kelvin ke Fahrenheit\n",
    "\n",
    "konversisuhu(25,11.2,15)\n",
    "   ## digunakan untuk pemanggilan function, 25 untuk argumen celcius, 11.2 argumen kelvin, 15 argumen fahrenheit"
   ]
  },
  {
   "cell_type": "code",
   "execution_count": null,
   "metadata": {},
   "outputs": [],
   "source": []
  }
 ],
 "metadata": {
  "interpreter": {
   "hash": "b09ec625f77bf4fd762565a912b97636504ad6ec901eb2d0f4cf5a7de23e1ee5"
  },
  "kernelspec": {
   "display_name": "Python 3.9.12 ('base')",
   "language": "python",
   "name": "python3"
  },
  "language_info": {
   "codemirror_mode": {
    "name": "ipython",
    "version": 3
   },
   "file_extension": ".py",
   "mimetype": "text/x-python",
   "name": "python",
   "nbconvert_exporter": "python",
   "pygments_lexer": "ipython3",
   "version": "3.9.12"
  },
  "orig_nbformat": 4
 },
 "nbformat": 4,
 "nbformat_minor": 2
}
