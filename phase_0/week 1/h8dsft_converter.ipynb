{
 "cells": [
  {
   "cell_type": "code",
   "execution_count": 5,
   "metadata": {},
   "outputs": [
    {
     "data": {
      "text/plain": [
       "-261.95"
      ]
     },
     "execution_count": 5,
     "metadata": {},
     "output_type": "execute_result"
    }
   ],
   "source": [
    "def konversisuhu(celcius,kelvin,fahre):\n",
    "    kelvin_to_celc = kelvin - 273.15\n",
    "## untuk mengkonversi suhu dari kelvin ke celcius\n",
    "    celc_to_kelvin = celcius + 273.15\n",
    "## untuk konversi dari celcius ke kelvin\n",
    "    celc_to_fahre = (celcius * 9/5) + 32\n",
    "## konversi celcius ke fahrenheit\n",
    "    kelvin_to_fahre = (kelvin - 273.15)*9/5+32\n",
    "# konversi kelvin ke fahrenheit\n",
    "    \n",
    "    \n",
    "konversisuhu (25,11.2,15)\n",
    "## digunakan untuk pemanggilan function\n",
    "## 25 untuk argumen celcius, 11.2 argumen kelvin, 15 argumen fahrenheit"
   ]
  },
  {
   "cell_type": "code",
   "execution_count": 12,
   "metadata": {},
   "outputs": [
    {
     "name": "stdout",
     "output_type": "stream",
     "text": [
      "nilai dari 40 fahrenheit adalah 4.444444444444445 Celcius\n",
      "nilai dari 40 fahrenheit adalah 277.59444444444443 Kelvin\n"
     ]
    }
   ],
   "source": [
    "# pembuatan function diawali kata def\n",
    "def fahrenheitconvert(fahre):\n",
    "\n",
    "# fahrenheitconvert adalah nama function yang dapat dipanggil untuk di proses\n",
    "# fahre adalah nilai yang dipakai untuk di proses\n",
    "\n",
    "    Celcius = (fahre - 32)*(5/9)\n",
    "# untuk mengubah nilai dari fahrenheit ke celcius mengunakan rumus diatas\n",
    "\n",
    "    Kelvin = (fahre - 32)*5/9 + 273.15\n",
    "# untuk mengubah nilai dari fahrenheit ke kelvin mengunakan rumus diatas\n",
    "\n",
    "    print (f'nilai dari {fahre} fahrenheit adalah {Celcius} Celcius')\n",
    "# untuk mecetak nilai dari fahrenheit ke celcius yang didapat setelah proses\n",
    "\n",
    "    print (f'nilai dari {fahre} fahrenheit adalah {Kelvin} Kelvin')\n",
    "# untuk mecetak nilai dari fahrenheit ke kelvin yang didapat setelah proses\n",
    "\n",
    "fahrenheitconvert(40)\n",
    "# Pemanggilan function menggunakan nama_function\n",
    "# 40 adalah satuan fahrenheit yang ingin di konversi"
   ]
  },
  {
   "cell_type": "code",
   "execution_count": null,
   "metadata": {},
   "outputs": [],
   "source": []
  },
  {
   "cell_type": "markdown",
   "metadata": {},
   "source": []
  }
 ],
 "metadata": {
  "interpreter": {
   "hash": "b09ec625f77bf4fd762565a912b97636504ad6ec901eb2d0f4cf5a7de23e1ee5"
  },
  "kernelspec": {
   "display_name": "Python 3.9.12 ('base')",
   "language": "python",
   "name": "python3"
  },
  "language_info": {
   "codemirror_mode": {
    "name": "ipython",
    "version": 3
   },
   "file_extension": ".py",
   "mimetype": "text/x-python",
   "name": "python",
   "nbconvert_exporter": "python",
   "pygments_lexer": "ipython3",
   "version": "3.9.12"
  },
  "orig_nbformat": 4
 },
 "nbformat": 4,
 "nbformat_minor": 2
}
