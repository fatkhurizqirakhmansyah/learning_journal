{
 "cells": [
  {
   "cell_type": "code",
   "execution_count": 3,
   "metadata": {},
   "outputs": [
    {
     "data": {
      "text/plain": [
       "-261.95"
      ]
     },
     "execution_count": 3,
     "metadata": {},
     "output_type": "execute_result"
    }
   ],
   "source": [
    "def konversisuhu(celcius,kelvin,fahre):\n",
    "    kelvin_to_celc = kelvin - 273.15\n",
    "    celc_to_kelvin = celcius + 273.15\n",
    "    celc_to_fahre = (celcius * 9/5) + 32\n",
    "    kelvin_to_fahre = (kelvin - 273.15)*9/5+32\n",
    "    return kelvin - 273.15\n",
    "    \n",
    "konversisuhu (25,11.2,15)"
   ]
  },
  {
   "cell_type": "code",
   "execution_count": null,
   "metadata": {},
   "outputs": [],
   "source": [
    "def fahrenheitconvert(fahre):\n",
    "    Celcius = (fahre - 32)*(5/9)\n",
    "    Kelvin = (fahre - 32)*5/9 + 273.15\n",
    "    print (\"hasil nya adalah : \" Celcius)\n",
    "    print (Kelvin)\n",
    "\n",
    "fahrenheitconvert(40)"
   ]
  }
 ],
 "metadata": {
  "interpreter": {
   "hash": "b09ec625f77bf4fd762565a912b97636504ad6ec901eb2d0f4cf5a7de23e1ee5"
  },
  "kernelspec": {
   "display_name": "Python 3.9.12 ('base')",
   "language": "python",
   "name": "python3"
  },
  "language_info": {
   "codemirror_mode": {
    "name": "ipython",
    "version": 3
   },
   "file_extension": ".py",
   "mimetype": "text/x-python",
   "name": "python",
   "nbconvert_exporter": "python",
   "pygments_lexer": "ipython3",
   "version": "3.9.12"
  },
  "orig_nbformat": 4
 },
 "nbformat": 4,
 "nbformat_minor": 2
}
