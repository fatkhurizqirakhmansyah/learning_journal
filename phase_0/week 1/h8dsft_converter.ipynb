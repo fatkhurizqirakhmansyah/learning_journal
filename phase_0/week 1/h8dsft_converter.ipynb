{
 "cells": [
  {
   "cell_type": "code",
   "execution_count": 13,
   "metadata": {},
   "outputs": [
    {
     "name": "stdout",
     "output_type": "stream",
     "text": [
      "nilai dari 11.2 kelvin adalah -261.95 Celcius\n",
      "nilai dari 25 Celcius adalah 298.15 Kelvin\n",
      "nilai dari 25 Celcius adalah 77.0 fahrenheit\n",
      "nilai dari 15 fahrenheit adalah -9.444444444444445 Celcius\n",
      "nilai dari 15 fahrenheit adalah 263.7055555555555 Kelvin\n"
     ]
    }
   ],
   "source": [
    "def konversisuhu(celc,kelvin,fahre):\n",
    "    \n",
    "## kode function diawali kata def\n",
    "## konversisuhu adalah nama function yang dapat dipanggil untuk diproses\n",
    "## celc, kelvin , fahre adalah parameter\n",
    "    Celcius = kelvin - 273.15\n",
    "## rumus untuk mengkonversi suhu dari kelvin ke celcius\n",
    "    print (f'nilai dari {kelvin} kelvin adalah {Celcius} Celcius')\n",
    "## untuk mecetak nilai dari kelvin ke celcius yang didapat setelah proses\n",
    "    kelv = celc + 273.15\n",
    "## rumus untuk konversi dari celcius ke kelvin\n",
    "    print (f'nilai dari {celc} Celcius adalah {kelv} Kelvin')\n",
    "## untuk mecetak nilai dari celcius ke kelvin yang didapat setelah proses\n",
    "    fahrenheit = (celc * 9/5) + 32\n",
    "## rumus konversi celcius ke fahrenheit\n",
    "    print (f'nilai dari {celc} Celcius adalah {fahrenheit} fahrenheit')\n",
    "## untuk mecetak nilai dari celcius ke fahrenheit yang didapat setelah proses\n",
    "    fahrenheit = (kelvin - 273.15)*9/5+32\n",
    "## rumus konversi kelvin ke fahrenheit\n",
    "    Celcius = (fahre - 32)*(5/9)\n",
    "## rumus untuk mengubah nilai dari fahrenheit ke celcius\n",
    "    kelv = (fahre - 32)*5/9 + 273.15\n",
    "## rumus untuk mengubah nilai dari fahrenheit ke kelvin\n",
    "    print (f'nilai dari {fahre} fahrenheit adalah {Celcius} Celcius')\n",
    "## untuk mecetak nilai dari fahrenheit ke celcius yang didapat setelah proses\n",
    "    print (f'nilai dari {fahre} fahrenheit adalah {kelv} Kelvin')\n",
    "## untuk mecetak nilai dari fahrenheit ke kelvin yang didapat setelah proses\n",
    "\n",
    "konversisuhu (25,11.2,15)\n",
    "## digunakan untuk pemanggilan function\n",
    "## 25 untuk argumen celcius, 11.2 argumen kelvin, 15 argumen fahrenheit"
   ]
  }
 ],
 "metadata": {
  "interpreter": {
   "hash": "b09ec625f77bf4fd762565a912b97636504ad6ec901eb2d0f4cf5a7de23e1ee5"
  },
  "kernelspec": {
   "display_name": "Python 3.9.12 ('base')",
   "language": "python",
   "name": "python3"
  },
  "language_info": {
   "codemirror_mode": {
    "name": "ipython",
    "version": 3
   },
   "file_extension": ".py",
   "mimetype": "text/x-python",
   "name": "python",
   "nbconvert_exporter": "python",
   "pygments_lexer": "ipython3",
   "version": "3.9.12"
  },
  "orig_nbformat": 4
 },
 "nbformat": 4,
 "nbformat_minor": 2
}
